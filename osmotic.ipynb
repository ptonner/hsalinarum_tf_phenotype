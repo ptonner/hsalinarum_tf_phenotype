{
 "cells": [
  {
   "cell_type": "code",
   "execution_count": 40,
   "metadata": {
    "collapsed": true
   },
   "outputs": [],
   "source": [
    "%matplotlib inline"
   ]
  },
  {
   "cell_type": "code",
   "execution_count": 41,
   "metadata": {
    "collapsed": false
   },
   "outputs": [],
   "source": [
    "import pandas as pd\n",
    "import numpy as np\n",
    "import matplotlib.pyplot as plt\n",
    "import GPy, patsy, pickle, utils, plot, analyze"
   ]
  },
  {
   "cell_type": "code",
   "execution_count": 42,
   "metadata": {
    "collapsed": true
   },
   "outputs": [],
   "source": [
    "data = pd.read_csv(\"data/tidy_normalize_log_st0.csv\",index_col=None)\n",
    "data = data[(data.standard==1) | (data.osmotic==1)]\n",
    "\n",
    "skip_strains = ['ura3_EV', u'cspD1_EV', u'cspD1_cspD1','ura3']"
   ]
  },
  {
   "cell_type": "code",
   "execution_count": 43,
   "metadata": {
    "collapsed": true
   },
   "outputs": [],
   "source": [
    "def null_interaction(y):\n",
    "    y[:,2] = 0\n",
    "    return y"
   ]
  },
  {
   "cell_type": "code",
   "execution_count": null,
   "metadata": {
    "collapsed": false
   },
   "outputs": [
    {
     "name": "stdout",
     "output_type": "stream",
     "text": [
      "VNG0039: (1296, 5)\n"
     ]
    }
   ],
   "source": [
    "reload(analyze)\n",
    "\n",
    "class ThisAnalysis(analyze.Analysis):\n",
    "    \n",
    "    def delta_xbase(self):\n",
    "        return {'time':self.full_time, 'Strain':[self.current_strain]*50,'osmotic':[1]*50}\n",
    "\n",
    "analysis = ThisAnalysis(data,'+ C(osmotic) + C(Strain,levels=l):C(osmotic)',4,'osmotic',3,lambda x: x[:,1:],\n",
    "                           time = np.arange(0,43,8),skip_strains=skip_strains)\n",
    "analysis.run(delta=True,\n",
    "             delta_kwargs={'xchange_2':null_interaction})"
   ]
  },
  {
   "cell_type": "code",
   "execution_count": 38,
   "metadata": {
    "collapsed": false
   },
   "outputs": [
    {
     "data": {
      "text/plain": [
       "{'Strain': ['VNG0039',\n",
       "  'VNG0039',\n",
       "  'VNG0039',\n",
       "  'VNG0039',\n",
       "  'VNG0039',\n",
       "  'VNG0039',\n",
       "  'VNG0039',\n",
       "  'VNG0039',\n",
       "  'VNG0039',\n",
       "  'VNG0039',\n",
       "  'VNG0039',\n",
       "  'VNG0039',\n",
       "  'VNG0039',\n",
       "  'VNG0039',\n",
       "  'VNG0039',\n",
       "  'VNG0039',\n",
       "  'VNG0039',\n",
       "  'VNG0039',\n",
       "  'VNG0039',\n",
       "  'VNG0039',\n",
       "  'VNG0039',\n",
       "  'VNG0039',\n",
       "  'VNG0039',\n",
       "  'VNG0039',\n",
       "  'VNG0039',\n",
       "  'VNG0039',\n",
       "  'VNG0039',\n",
       "  'VNG0039',\n",
       "  'VNG0039',\n",
       "  'VNG0039',\n",
       "  'VNG0039',\n",
       "  'VNG0039',\n",
       "  'VNG0039',\n",
       "  'VNG0039',\n",
       "  'VNG0039',\n",
       "  'VNG0039',\n",
       "  'VNG0039',\n",
       "  'VNG0039',\n",
       "  'VNG0039',\n",
       "  'VNG0039',\n",
       "  'VNG0039',\n",
       "  'VNG0039',\n",
       "  'VNG0039',\n",
       "  'VNG0039',\n",
       "  'VNG0039',\n",
       "  'VNG0039',\n",
       "  'VNG0039',\n",
       "  'VNG0039',\n",
       "  'VNG0039',\n",
       "  'VNG0039'],\n",
       " 'osmotic': [1,\n",
       "  1,\n",
       "  1,\n",
       "  1,\n",
       "  1,\n",
       "  1,\n",
       "  1,\n",
       "  1,\n",
       "  1,\n",
       "  1,\n",
       "  1,\n",
       "  1,\n",
       "  1,\n",
       "  1,\n",
       "  1,\n",
       "  1,\n",
       "  1,\n",
       "  1,\n",
       "  1,\n",
       "  1,\n",
       "  1,\n",
       "  1,\n",
       "  1,\n",
       "  1,\n",
       "  1,\n",
       "  1,\n",
       "  1,\n",
       "  1,\n",
       "  1,\n",
       "  1,\n",
       "  1,\n",
       "  1,\n",
       "  1,\n",
       "  1,\n",
       "  1,\n",
       "  1,\n",
       "  1,\n",
       "  1,\n",
       "  1,\n",
       "  1,\n",
       "  1,\n",
       "  1,\n",
       "  1,\n",
       "  1,\n",
       "  1,\n",
       "  1,\n",
       "  1,\n",
       "  1,\n",
       "  1,\n",
       "  1],\n",
       " 'time': array([ 0,  8, 16, 24, 32, 40])}"
      ]
     },
     "execution_count": 38,
     "metadata": {},
     "output_type": "execute_result"
    }
   ],
   "source": [
    "analysis.delta_xbase()"
   ]
  },
  {
   "cell_type": "code",
   "execution_count": 25,
   "metadata": {
    "collapsed": false
   },
   "outputs": [
    {
     "name": "stdout",
     "output_type": "stream",
     "text": [
      "OD ~ 0 + scale(time) + C(Strain,levels=l)+ C(paraquat) + C(Strain,levels=l):C(paraquat)\n"
     ]
    },
    {
     "data": {
      "text/plain": [
       "(DesignMatrix with shape (1296, 1)\n",
       "         OD\n",
       "   -0.00009\n",
       "    0.50785\n",
       "    1.19751\n",
       "    1.51713\n",
       "    1.64536\n",
       "    1.74743\n",
       "   -0.01338\n",
       "    0.50785\n",
       "    1.23173\n",
       "    1.56712\n",
       "    1.68706\n",
       "    1.74743\n",
       "   -0.01338\n",
       "    0.51713\n",
       "    1.19751\n",
       "    1.49852\n",
       "    1.60242\n",
       "    1.67881\n",
       "   -0.06783\n",
       "    0.34025\n",
       "    1.07093\n",
       "    1.45090\n",
       "    1.59805\n",
       "    1.65379\n",
       "    0.07722\n",
       "    0.50785\n",
       "    1.21472\n",
       "    1.52635\n",
       "    1.67052\n",
       "    1.73952\n",
       "   [1266 rows omitted]\n",
       "   Terms:\n",
       "     'OD' (column 0)\n",
       "   (to view full data, use np.asarray(this_obj)),\n",
       " DesignMatrix with shape (1296, 3)\n",
       "   C(Strain, levels=l)[ura3]  C(Strain, levels=l)[rosR]  scale(time)\n",
       "                           1                          0     -1.46385\n",
       "                           1                          0     -0.87831\n",
       "                           1                          0     -0.29277\n",
       "                           1                          0      0.29277\n",
       "                           1                          0      0.87831\n",
       "                           1                          0      1.46385\n",
       "                           1                          0     -1.46385\n",
       "                           1                          0     -0.87831\n",
       "                           1                          0     -0.29277\n",
       "                           1                          0      0.29277\n",
       "                           1                          0      0.87831\n",
       "                           1                          0      1.46385\n",
       "                           1                          0     -1.46385\n",
       "                           1                          0     -0.87831\n",
       "                           1                          0     -0.29277\n",
       "                           1                          0      0.29277\n",
       "                           1                          0      0.87831\n",
       "                           1                          0      1.46385\n",
       "                           1                          0     -1.46385\n",
       "                           1                          0     -0.87831\n",
       "                           1                          0     -0.29277\n",
       "                           1                          0      0.29277\n",
       "                           1                          0      0.87831\n",
       "                           1                          0      1.46385\n",
       "                           1                          0     -1.46385\n",
       "                           1                          0     -0.87831\n",
       "                           1                          0     -0.29277\n",
       "                           1                          0      0.29277\n",
       "                           1                          0      0.87831\n",
       "                           1                          0      1.46385\n",
       "   [1266 rows omitted]\n",
       "   Terms:\n",
       "     'C(Strain, levels=l)' (columns 0:2)\n",
       "     'C(paraquat)' (columns 2:2)\n",
       "     'C(Strain, levels=l):C(paraquat)' (columns 2:2)\n",
       "     'scale(time)' (column 2)\n",
       "   (to view full data, use np.asarray(this_obj)))"
      ]
     },
     "execution_count": 25,
     "metadata": {},
     "output_type": "execute_result"
    }
   ],
   "source": [
    "analysis.build_strain_data('rosR')"
   ]
  },
  {
   "cell_type": "code",
   "execution_count": 20,
   "metadata": {
    "collapsed": false
   },
   "outputs": [
    {
     "data": {
      "text/plain": [
       "'OD ~ 0 + scale(time) + C(Strain,levels=l)+ C(paraquat) + C(Strain,levels=l):C(paraquat)'"
      ]
     },
     "execution_count": 20,
     "metadata": {},
     "output_type": "execute_result"
    }
   ],
   "source": [
    "analysis.build_equation()"
   ]
  },
  {
   "cell_type": "code",
   "execution_count": null,
   "metadata": {
    "collapsed": true
   },
   "outputs": [],
   "source": []
  }
 ],
 "metadata": {
  "kernelspec": {
   "display_name": "Python 2",
   "language": "python",
   "name": "python2"
  },
  "language_info": {
   "codemirror_mode": {
    "name": "ipython",
    "version": 2
   },
   "file_extension": ".py",
   "mimetype": "text/x-python",
   "name": "python",
   "nbconvert_exporter": "python",
   "pygments_lexer": "ipython2",
   "version": "2.7.6"
  }
 },
 "nbformat": 4,
 "nbformat_minor": 0
}

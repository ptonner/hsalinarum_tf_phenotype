{
 "cells": [
  {
   "cell_type": "code",
   "execution_count": 1,
   "metadata": {
    "collapsed": true
   },
   "outputs": [],
   "source": [
    "%matplotlib inline"
   ]
  },
  {
   "cell_type": "code",
   "execution_count": 2,
   "metadata": {
    "collapsed": false
   },
   "outputs": [],
   "source": [
    "import pandas as pd\n",
    "import numpy as np\n",
    "import matplotlib.pyplot as plt\n",
    "import GPy, patsy, pickle, utils, plot, analyze"
   ]
  },
  {
   "cell_type": "code",
   "execution_count": 3,
   "metadata": {
    "collapsed": true
   },
   "outputs": [],
   "source": [
    "data = pd.read_csv(\"data/tidy_normalize_log_st0.csv\",index_col=None)\n",
    "data = data[(data.standard==1) | (data.osmotic==1)]\n",
    "\n",
    "skip_strains = ['ura3_EV', u'cspD1_EV', u'cspD1_cspD1','ura3']"
   ]
  },
  {
   "cell_type": "code",
   "execution_count": 4,
   "metadata": {
    "collapsed": true
   },
   "outputs": [],
   "source": [
    "def null_interaction(y):\n",
    "    y[:,2] = 0\n",
    "    return y"
   ]
  },
  {
   "cell_type": "code",
   "execution_count": 7,
   "metadata": {
    "collapsed": false
   },
   "outputs": [
    {
     "name": "stdout",
     "output_type": "stream",
     "text": [
      "VNG0039: (1296, 5)\n",
      "VNG0194H: (1296, 5)\n",
      "VNG0471: (1296, 5)\n",
      "VNG1029: (1296, 5)\n",
      "VNG2268: (1296, 5)\n",
      "VNG2614: (1296, 5)\n",
      "arcR: (1296, 5)\n",
      "asnC: (1296, 5)\n",
      "birA: (1290, 5)\n",
      "copR: (1368, 5)\n",
      "cspD1: (1296, 5)\n",
      "cspD2: (1296, 5)\n",
      "hlx1: (1374, 5)\n",
      "hlx2: (1296, 5)\n",
      "hrg: (1290, 5)\n",
      "idr1: (1296, 5)\n",
      "idr2: (1296, 5)\n",
      "kaiC: (1296, 5)\n",
      "phoU: (1296, 5)\n",
      "prp2: (1296, 5)\n",
      "rosR: (1296, 5)\n",
      "sirR: (1296, 5)\n",
      "trh2: (1296, 5)\n",
      "trh3: (1296, 5)\n",
      "trh4: (1296, 5)\n",
      "trmB: (1302, 5)\n",
      "troR: (1296, 5)\n"
     ]
    }
   ],
   "source": [
    "reload(analyze)\n",
    "\n",
    "class ThisAnalysis(analyze.Analysis):\n",
    "    \n",
    "    def xbase(self,strain=None,**kwargs):\n",
    "        if strain is None:\n",
    "            strain = self.current_strain\n",
    "        return {'time':self.full_time, 'Strain':[strain]*50,'osmotic':[1]*50}\n",
    "\n",
    "analysis = ThisAnalysis(data,'+ C(osmotic) + C(Strain,levels=l):C(osmotic)',4,'osmotic',3,lambda x: x[:,1:],\n",
    "                           time=np.arange(0,43,8),skip_strains=skip_strains)\n",
    "analysis.run(_plot=True,delta=True,\n",
    "             delta_kwargs={'x_2':{},'xchange_2':null_interaction})"
   ]
  },
  {
   "cell_type": "code",
   "execution_count": null,
   "metadata": {
    "collapsed": true
   },
   "outputs": [],
   "source": []
  }
 ],
 "metadata": {
  "kernelspec": {
   "display_name": "Python 2",
   "language": "python",
   "name": "python2"
  },
  "language_info": {
   "codemirror_mode": {
    "name": "ipython",
    "version": 2
   },
   "file_extension": ".py",
   "mimetype": "text/x-python",
   "name": "python",
   "nbconvert_exporter": "python",
   "pygments_lexer": "ipython2",
   "version": "2.7.6"
  }
 },
 "nbformat": 4,
 "nbformat_minor": 0
}

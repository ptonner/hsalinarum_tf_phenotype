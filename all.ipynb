{
 "cells": [
  {
   "cell_type": "code",
   "execution_count": 1,
   "metadata": {
    "collapsed": true
   },
   "outputs": [],
   "source": [
    "%matplotlib inline"
   ]
  },
  {
   "cell_type": "code",
   "execution_count": 2,
   "metadata": {
    "collapsed": false
   },
   "outputs": [],
   "source": [
    "import pandas as pd\n",
    "import numpy as np\n",
    "import matplotlib.pyplot as plt\n",
    "import GPy, patsy, pickle, utils, plot, analyze"
   ]
  },
  {
   "cell_type": "markdown",
   "metadata": {},
   "source": [
    "# Standard "
   ]
  },
  {
   "cell_type": "code",
   "execution_count": 3,
   "metadata": {
    "collapsed": true
   },
   "outputs": [],
   "source": [
    "data = pd.read_csv(\"data/tidy_normalize_log_st0.csv\",index_col=None)\n",
    "data = data[(data.standard==1)]\n",
    "\n",
    "skip_strains = ['ura3_EV', u'cspD1_EV', u'cspD1_cspD1','ura3',\n",
    "                'VNG1179C+pMTFcmyc','VNG1179C-VNG1179C','ura3+pMTFcmyc']"
   ]
  },
  {
   "cell_type": "code",
   "execution_count": 4,
   "metadata": {
    "collapsed": false
   },
   "outputs": [
    {
     "name": "stdout",
     "output_type": "stream",
     "text": [
      "VNG0039: (1980, 3)\n",
      "VNG0194H: (1980, 3)\n",
      "VNG0471: (1980, 3)\n",
      "VNG1029: (1980, 3)\n",
      "VNG2268: (1980, 3)\n",
      "VNG2614: (1980, 3)\n",
      "arcR: (1980, 3)\n",
      "asnC: (1980, 3)\n",
      "birA: (1980, 3)\n",
      "copR: (2112, 3)\n",
      "cspD1: (1980, 3)\n",
      "cspD2: (1980, 3)\n",
      "hlx1: (2112, 3)\n",
      "hlx2: (1980, 3)\n",
      "hrg: (1980, 3)\n",
      "idr1: (1980, 3)\n",
      "idr2: (1980, 3)\n",
      "kaiC: (1980, 3)\n",
      "phoU: (1980, 3)\n",
      "prp2: (1980, 3)\n",
      "rosR: (1980, 3)\n",
      "sirR: (1980, 3)\n",
      "trh2: (1980, 3)\n",
      "trh3: (1980, 3)\n",
      "trh4: (1980, 3)\n",
      "trmB: (1980, 3)\n",
      "troR: (1980, 3)\n"
     ]
    },
    {
     "name": "stderr",
     "output_type": "stream",
     "text": [
      " plot.py:54: VisibleDeprecationWarning:using a non-integer number instead of an integer will result in an error in the future\n"
     ]
    }
   ],
   "source": [
    "reload(analyze)\n",
    "\n",
    "analysis = analyze.Analysis(data,'',2,'standard',1,lambda x: x[:,1:],\n",
    "                           time = np.arange(0,42,4),skip_strains=skip_strains)#,strains=['asnC','copR'])\n",
    "analysis.run(delta=True,_plot=True)"
   ]
  },
  {
   "cell_type": "markdown",
   "metadata": {},
   "source": [
    "# Paraquat "
   ]
  },
  {
   "cell_type": "code",
   "execution_count": 5,
   "metadata": {
    "collapsed": true
   },
   "outputs": [],
   "source": [
    "data = pd.read_csv(\"data/tidy_normalize_log_st0.csv\",index_col=None)\n",
    "data = data[(data.standard==1) | (data.paraquat==1)]\n",
    "\n",
    "skip_strains = ['ura3_EV', u'cspD1_EV', u'cspD1_cspD1','ura3']"
   ]
  },
  {
   "cell_type": "code",
   "execution_count": 6,
   "metadata": {
    "collapsed": true
   },
   "outputs": [],
   "source": [
    "def null_interaction(y):\n",
    "    y[:,2] = 0\n",
    "    return y"
   ]
  },
  {
   "cell_type": "code",
   "execution_count": 7,
   "metadata": {
    "collapsed": false
   },
   "outputs": [
    {
     "name": "stdout",
     "output_type": "stream",
     "text": [
      "VNG0039: (1656, 5)\n",
      "VNG0194H: (1656, 5)\n",
      "VNG0471: (1656, 5)\n",
      "VNG1029: (1656, 5)\n",
      "VNG2268: (1656, 5)\n",
      "VNG2614: (1656, 5)\n",
      "arcR: (1656, 5)\n",
      "asnC: (1656, 5)\n",
      "birA: (1656, 5)\n",
      "copR: (1800, 5)\n",
      "cspD1: (1656, 5)\n",
      "cspD2: (1656, 5)\n",
      "hlx1: (1728, 5)\n",
      "hlx2: (1656, 5)\n",
      "hrg: (1656, 5)\n",
      "idr1: (1656, 5)\n",
      "idr2: (1656, 5)\n",
      "kaiC: (1656, 5)\n",
      "phoU: (1656, 5)\n",
      "prp2: (1656, 5)\n",
      "rosR: (1656, 5)\n",
      "sirR: (1656, 5)\n",
      "trh2: (1656, 5)\n",
      "trh3: (1656, 5)\n",
      "trh4: (1656, 5)\n",
      "trmB: (1656, 5)\n",
      "troR: (1656, 5)\n"
     ]
    }
   ],
   "source": [
    "reload(analyze)\n",
    "\n",
    "class ThisAnalysis(analyze.Analysis):\n",
    "    \n",
    "    def xbase(self,strain=None,**kwargs):\n",
    "        if strain is None:\n",
    "            strain = self.current_strain\n",
    "        return {'time':self.full_time, 'Strain':[strain]*50,'paraquat':[1]*50}\n",
    "\n",
    "analysis = ThisAnalysis(data,'+ C(paraquat) + C(Strain,levels=l):C(paraquat)',4,'paraquat',3,lambda x: x[:,1:],\n",
    "                           time=np.arange(0,43,8),skip_strains=skip_strains)\n",
    "analysis.run(_plot=True,delta=True,\n",
    "             delta_kwargs={'x_2':{},'xchange_2':null_interaction})"
   ]
  },
  {
   "cell_type": "markdown",
   "metadata": {},
   "source": [
    "# Osmotic "
   ]
  },
  {
   "cell_type": "code",
   "execution_count": 10,
   "metadata": {
    "collapsed": true
   },
   "outputs": [],
   "source": [
    "data = pd.read_csv(\"data/tidy_normalize_log_st0.csv\",index_col=None)\n",
    "data = data[(data.standard==1) | (data.osmotic==1)]\n",
    "\n",
    "skip_strains = ['ura3_EV', u'cspD1_EV', u'cspD1_cspD1','ura3'] "
   ]
  },
  {
   "cell_type": "code",
   "execution_count": 11,
   "metadata": {
    "collapsed": true
   },
   "outputs": [],
   "source": [
    "def null_interaction(y):\n",
    "    y[:,2] = 0\n",
    "    return y"
   ]
  },
  {
   "cell_type": "code",
   "execution_count": 12,
   "metadata": {
    "collapsed": false
   },
   "outputs": [
    {
     "name": "stdout",
     "output_type": "stream",
     "text": [
      "VNG0039: (1296, 5)\n",
      "VNG0194H: (1296, 5)\n",
      "VNG0471: (1296, 5)\n",
      "VNG1029: (1296, 5)\n",
      "VNG2268: (1296, 5)\n",
      "VNG2614: (1296, 5)\n",
      "arcR: (1296, 5)\n",
      "asnC: (1296, 5)\n",
      "birA: (1290, 5)\n",
      "copR: (1368, 5)\n",
      "cspD1: (1296, 5)\n",
      "cspD2: (1296, 5)\n",
      "hlx1: (1374, 5)\n",
      "hlx2: (1296, 5)\n",
      "hrg: (1290, 5)\n",
      "idr1: (1296, 5)\n",
      "idr2: (1296, 5)\n",
      "kaiC: (1296, 5)\n",
      "phoU: (1296, 5)\n",
      "prp2: (1296, 5)\n",
      "rosR: (1296, 5)\n",
      "sirR: (1296, 5)\n",
      "trh2: (1296, 5)\n",
      "trh3: (1296, 5)\n",
      "trh4: (1296, 5)\n",
      "trmB: (1302, 5)\n",
      "troR: (1296, 5)\n"
     ]
    }
   ],
   "source": [
    "reload(analyze)\n",
    "\n",
    "class ThisAnalysis(analyze.Analysis):\n",
    "    \n",
    "    def xbase(self,strain=None,**kwargs):\n",
    "        if strain is None:\n",
    "            strain = self.current_strain\n",
    "        return {'time':self.full_time, 'Strain':[strain]*50,'osmotic':[1]*50}\n",
    "\n",
    "analysis = ThisAnalysis(data,'+ C(osmotic) + C(Strain,levels=l):C(osmotic)',4,'osmotic',3,lambda x: x[:,1:],\n",
    "                           time=np.arange(0,43,8),skip_strains=skip_strains)\n",
    "analysis.run(_plot=True,delta=True,\n",
    "             delta_kwargs={'x_2':{},'xchange_2':null_interaction})"
   ]
  },
  {
   "cell_type": "markdown",
   "metadata": {},
   "source": [
    "# Heatshock "
   ]
  },
  {
   "cell_type": "code",
   "execution_count": 8,
   "metadata": {
    "collapsed": true
   },
   "outputs": [],
   "source": [
    "data = pd.read_csv(\"data/tidy_normalize_log_st0.csv\",index_col=None)\n",
    "data = data[(data.heatshock==1)]\n",
    "\n",
    "skip_strains = ['ura3_EV', u'cspD1_EV', u'cspD1_cspD1','ura3',\n",
    "                'VNG1179C+pMTFcmyc','VNG1179C-VNG1179C','ura3+pMTFcmyc']"
   ]
  },
  {
   "cell_type": "code",
   "execution_count": 9,
   "metadata": {
    "collapsed": false,
    "scrolled": false
   },
   "outputs": [
    {
     "name": "stdout",
     "output_type": "stream",
     "text": [
      "VNG0039: (1176, 3)\n",
      "VNG0194H: (1344, 3)\n",
      "VNG0471: (1176, 3)\n",
      "VNG1029: (1176, 3)\n",
      "VNG2268: (1176, 3)\n",
      "VNG2614: (1176, 3)\n",
      "arcR: (1176, 3)\n",
      "asnC: (1344, 3)\n",
      "birA: (1176, 3)\n",
      "copR: (1512, 3)\n",
      "cspD1: (1344, 3)\n",
      "cspD2: (1176, 3)\n",
      "hlx1: (1176, 3)\n",
      "hlx2: (1176, 3)\n",
      "hrg: (1176, 3)\n",
      "idr1: (1176, 3)\n",
      "idr2: (1344, 3)\n",
      "kaiC: (1176, 3)\n",
      "phoU: (1344, 3)\n",
      "prp2: (1176, 3)\n",
      "rosR: (1176, 3)\n",
      "sirR: (1176, 3)\n",
      "trh2: (1344, 3)\n",
      "trh3: (1176, 3)\n",
      "trh4: (1176, 3)\n",
      "trmB: (1176, 3)\n",
      "troR: (1176, 3)\n"
     ]
    }
   ],
   "source": [
    "reload(analyze)\n",
    "\n",
    "analysis = analyze.Analysis(data,'',2,'heatshock',1,lambda x: x[:,1:],\n",
    "                           time = np.arange(0,28,2),skip_strains=skip_strains)#,strains=['asnC','copR'])\n",
    "analysis.run(delta=True,_plot=True)"
   ]
  },
  {
   "cell_type": "code",
   "execution_count": null,
   "metadata": {
    "collapsed": true
   },
   "outputs": [],
   "source": []
  }
 ],
 "metadata": {
  "kernelspec": {
   "display_name": "Python 2",
   "language": "python",
   "name": "python2"
  },
  "language_info": {
   "codemirror_mode": {
    "name": "ipython",
    "version": 2
   },
   "file_extension": ".py",
   "mimetype": "text/x-python",
   "name": "python",
   "nbconvert_exporter": "python",
   "pygments_lexer": "ipython2",
   "version": "2.7.6"
  }
 },
 "nbformat": 4,
 "nbformat_minor": 0
}

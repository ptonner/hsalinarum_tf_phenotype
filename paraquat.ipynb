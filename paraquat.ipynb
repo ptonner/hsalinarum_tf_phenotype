{
 "cells": [
  {
   "cell_type": "code",
   "execution_count": 1,
   "metadata": {
    "collapsed": true
   },
   "outputs": [],
   "source": [
    "%matplotlib inline"
   ]
  },
  {
   "cell_type": "code",
   "execution_count": 46,
   "metadata": {
    "collapsed": true
   },
   "outputs": [],
   "source": [
    "import pandas as pd\n",
    "import numpy as np\n",
    "import matplotlib.pyplot as plt\n",
    "import GPy, patsy, pickle, utils, plot"
   ]
  },
  {
   "cell_type": "code",
   "execution_count": 3,
   "metadata": {
    "collapsed": false
   },
   "outputs": [],
   "source": [
    "# data = pd.read_csv(\"data/tidy_normalize_all.csv\",index_col=None)\n",
    "data = pd.read_csv(\"data/tidy_normalize_log_st0.csv\",index_col=None)\n",
    "data = data[(data.standard==1) | data.paraquat==1]"
   ]
  },
  {
   "cell_type": "code",
   "execution_count": 4,
   "metadata": {
    "collapsed": false
   },
   "outputs": [],
   "source": [
    "skip_strains = ['ura3_EV', u'cspD1_EV', u'cspD1_cspD1','ura3']"
   ]
  },
  {
   "cell_type": "code",
   "execution_count": 5,
   "metadata": {
    "collapsed": true
   },
   "outputs": [],
   "source": [
    "g = data.groupby('Strain')"
   ]
  },
  {
   "cell_type": "code",
   "execution_count": 6,
   "metadata": {
    "collapsed": false
   },
   "outputs": [],
   "source": [
    "ura3 = g.get_group('ura3')\n",
    "g_ura3 = ura3.groupby(['Experiment','Well'])"
   ]
  },
  {
   "cell_type": "code",
   "execution_count": 7,
   "metadata": {
    "collapsed": true
   },
   "outputs": [],
   "source": [
    "def plot_model(x,gp,strain):\n",
    "    time = np.linspace(-1,41)\n",
    "    \n",
    "    plt.subplot(121)\n",
    "    \n",
    "    predx = patsy.build_design_matrices([x.design_info],{'time':time,'Strain':['ura3']*50,'paraquat':[0]*50})[0]\n",
    "    mu,var = gp.predict(predx[:,1:])\n",
    "    mu = mu[:,0]\n",
    "    var = var[:,0]\n",
    "\n",
    "    plt.plot(time,mu,color='k')\n",
    "    plt.fill_between(time,mu-2*np.sqrt(var),mu+2*np.sqrt(var),color='k',alpha=.2)\n",
    "    \n",
    "    predx = patsy.build_design_matrices([x.design_info],{'time':time,'Strain':['ura3']*50,'paraquat':[1]*50})[0]\n",
    "    mu,var = gp.predict(predx[:,1:])\n",
    "    mu = mu[:,0]\n",
    "    var = var[:,0]\n",
    "\n",
    "    plt.plot(time,mu,color='g')\n",
    "    plt.fill_between(time,mu-2*np.sqrt(var),mu+2*np.sqrt(var),color='g',alpha=.2)    \n",
    "    \n",
    "    plt.subplot(122)\n",
    "    predx = patsy.build_design_matrices([x.design_info],{'time':time,'Strain':[strain]*50,'paraquat':[0]*50})[0]\n",
    "    mu,var = gp.predict(predx[:,1:])\n",
    "    mu = mu[:,0]\n",
    "    var = var[:,0]\n",
    "\n",
    "    plt.plot(time,mu,color='k')\n",
    "    plt.fill_between(time,mu-2*np.sqrt(var),mu+2*np.sqrt(var),alpha=.2,color='k')\n",
    "    \n",
    "    predx = patsy.build_design_matrices([x.design_info],{'time':time,'Strain':[strain]*50,'paraquat':[1]*50})[0]\n",
    "    mu,var = gp.predict(predx[:,1:])\n",
    "    mu = mu[:,0]\n",
    "    var = var[:,0]\n",
    "\n",
    "    plt.plot(time,mu,color='g')\n",
    "    plt.fill_between(time,mu-2*np.sqrt(var),mu+2*np.sqrt(var),color='g',alpha=.2)"
   ]
  },
  {
   "cell_type": "code",
   "execution_count": 8,
   "metadata": {
    "collapsed": true
   },
   "outputs": [],
   "source": [
    "def plot_wells(data,c,alpha):\n",
    "    g2 = data.groupby(['Experiment','Well'])\n",
    "\n",
    "    for ind,x in g2:\n",
    "        x.sort_values('time',inplace=True)\n",
    "        plt.plot(x.time,x.OD,c,alpha=alpha)"
   ]
  },
  {
   "cell_type": "code",
   "execution_count": 9,
   "metadata": {
    "collapsed": true
   },
   "outputs": [],
   "source": [
    "def plot_data(data,strain):\n",
    "    g = data.groupby([\"Strain\",'paraquat'])\n",
    "    \n",
    "    #ylim = (np.round(temp.OD.min() - .5,1),np.round(temp.OD.max() + .5,1))\n",
    "       \n",
    "    plt.subplot(121)\n",
    "    \n",
    "    temp = g.get_group(('ura3',0))\n",
    "    plot_wells(temp,'k',.1)\n",
    "    \n",
    "    temp = g.get_group(('ura3',1))\n",
    "    plot_wells(temp,'g',.1)\n",
    "    \n",
    "    plt.ylabel(\"log(OD)\",fontsize=30)\n",
    "    plt.xlabel(\"time (h)\",fontsize=30)\n",
    "    plt.yticks(fontsize=25)\n",
    "    plt.xticks(fontsize=25)\n",
    "    plt.grid(True,color='grey')\n",
    "    plt.xlim(-2,44)\n",
    "    \n",
    "    \n",
    "    plt.subplot(122)\n",
    "    \n",
    "    temp = g.get_group((strain,0))\n",
    "    plot_wells(temp,'k',.1)\n",
    "    \n",
    "    temp = g.get_group((strain,1))\n",
    "    plot_wells(temp,'g',.1)\n",
    "    \n",
    "    plt.xlabel(\"time (h)\",fontsize=30)\n",
    "    plt.yticks(fontsize=25)\n",
    "    plt.xticks(fontsize=25)\n",
    "    plt.grid(True,color='grey')\n",
    "    plt.xlim(-2,44)\n"
   ]
  },
  {
   "cell_type": "code",
   "execution_count": 10,
   "metadata": {
    "collapsed": true
   },
   "outputs": [],
   "source": [
    "ind = ['strain','BF','BF-permuted']\n",
    "table = pd.DataFrame(columns=ind)"
   ]
  },
  {
   "cell_type": "code",
   "execution_count": 38,
   "metadata": {
    "collapsed": true
   },
   "outputs": [],
   "source": [
    "def null_interaction(y):\n",
    "    y[:,2] = 0\n",
    "    return y"
   ]
  },
  {
   "cell_type": "code",
   "execution_count": 64,
   "metadata": {
    "collapsed": false
   },
   "outputs": [],
   "source": [
    "reload(utils);\n",
    "reload(plot);"
   ]
  },
  {
   "cell_type": "code",
   "execution_count": 65,
   "metadata": {
    "collapsed": false,
    "scrolled": true
   },
   "outputs": [
    {
     "name": "stdout",
     "output_type": "stream",
     "text": [
      "VNG0039 (1656, 12) (6,)\n"
     ]
    },
    {
     "name": "stderr",
     "output_type": "stream",
     "text": [
      " /home/ptonner/dev/hsalinarum_tf_phenotype/lib/python2.7/site-packages/ipykernel/__main__.py:5: SettingWithCopyWarning:\n",
      "A value is trying to be set on a copy of a slice from a DataFrame\n",
      "\n",
      "See the caveats in the documentation: http://pandas.pydata.org/pandas-docs/stable/indexing.html#indexing-view-versus-copy\n"
     ]
    },
    {
     "name": "stdout",
     "output_type": "stream",
     "text": [
      "VNG0194H (1656, 12) (6,)\n",
      "VNG0471 (1656, 12) (6,)\n",
      "VNG1029 (1656, 12) (6,)\n",
      "VNG2268 (1656, 12) (6,)\n",
      "VNG2614 (1656, 12) (6,)\n",
      "arcR (1656, 12) (6,)\n",
      "asnC (1656, 12) (6,)\n",
      "birA (1656, 12) (6,)\n",
      "copR (1800, 12) (6,)\n",
      "cspD1 (1656, 12) (6,)\n",
      "cspD2 (1656, 12) (6,)\n",
      "hlx1 (1728, 12) (6,)\n",
      "hlx2 (1656, 12) (6,)\n",
      "hrg (1656, 12) (6,)\n",
      "idr1 (1656, 12) (6,)\n",
      "idr2 (1656, 12) (6,)\n",
      "kaiC (1656, 12) (6,)\n",
      "phoU (1656, 12) (6,)\n",
      "prp2 (1656, 12) (6,)\n",
      "rosR (1656, 12) (6,)\n",
      "sirR (1656, 12) (6,)\n",
      "trh2 (1656, 12) (6,)\n",
      "trh3 (1656, 12) (6,)\n",
      "trh4 (1656, 12) (6,)\n",
      "trmB (1656, 12) (6,)\n",
      "troR (1656, 12) (6,)\n"
     ]
    }
   ],
   "source": [
    "permutations = False # should we calculate the permutations?\n",
    "save = False # should we save results?\n",
    "_pickle = False\n",
    "_plot = True\n",
    "delta = True\n",
    "\n",
    "od_delta = {}\n",
    "od_delta_deriv = {}\n",
    "\n",
    "for strain,temp in g:\n",
    "    \n",
    "    if strain in skip_strains:\n",
    "        continue\n",
    "        \n",
    "    row = pd.Series(index=ind)\n",
    "    row['strain'] = strain\n",
    "    \n",
    "    # add parent strain data\n",
    "    temp_full = ura3.append(temp)\n",
    "    \n",
    "    select = temp_full.time.isin(np.arange(0,43,8))\n",
    "    temp = temp_full[select]\n",
    "\n",
    "    l = ['ura3',strain]\n",
    "    y,x = patsy.dmatrices('OD ~ scale(time) + C(Strain,levels=l) + C(paraquat) + C(Strain,levels=l):C(paraquat) + 0',temp)\n",
    "    \n",
    "    print strain,temp.shape, temp.time.unique().shape\n",
    "    \n",
    "    gp = GPy.models.GPRegression(x[:,1:],y,GPy.kern.RBF(4,ARD=True))\n",
    "    gp.optimize()\n",
    "    \n",
    "    if _plot:\n",
    "        plt.figure(figsize=(12,6))\n",
    "        plot_model(x,gp,strain)\n",
    "        plot_data(temp_full,strain)\n",
    "        \n",
    "        ylim = (temp.OD.min(),temp.OD.max())\n",
    "        \n",
    "        plt.subplot(121)\n",
    "        plt.title(\"$\\Delta ura3$\",fontsize=40)\n",
    "        plt.ylim(ylim)\n",
    "        plt.subplot(122)\n",
    "        plt.title(\"$\\Delta %s$\"%strain,fontsize=40)\n",
    "        plt.ylim(ylim)\n",
    "        plt.tight_layout()\n",
    "        plt.savefig(\"figures/paraquat/%s.png\"%strain,bbox_inches=\"tight\",dpi=300)    \n",
    "        plt.close()\n",
    "    \n",
    "    gp_null = GPy.models.GPRegression(x[:,[1,2,4]],y,GPy.kern.RBF(3,ARD=True))\n",
    "    gp_null.optimize()\n",
    "    \n",
    "    row.BF = gp.log_likelihood() - gp_null.log_likelihood()\n",
    "    \n",
    "    if _pickle:\n",
    "        pickle.dump(gp,open('pickle/paraquat/%s.gp.pickle'%strain,'w'))\n",
    "    \n",
    "    if delta:\n",
    "        mu,var = utils.compute_delta(gp,x,\n",
    "                                     {'time':np.linspace(0,43)},{'Strain':[strain]*50,'paraquat':[1]*50},\n",
    "                                     {'Strain':['ura3']*50,'paraquat':[1]*50},\n",
    "                                     xslice=lambda y: y[:,1:],xchange_2=null_interaction)\n",
    "        plt.figure(figsize=(12,6))\n",
    "        plot.plot_mvn(mu,var)\n",
    "        plt.title(\"$\\Delta$ log(OD)\",fontsize=30)\n",
    "        plt.xlabel(\"time (h)\",fontsize=30)\n",
    "        plt.yticks(fontsize=25)\n",
    "        plt.xticks(fontsize=25)\n",
    "        plt.grid(True,color='grey')\n",
    "        plt.xlim(-2,45)\n",
    "        plt.savefig(\"figures/paraquat/od_delta/%s.png\"%strain,bbox_inches=\"tight\")\n",
    "        plt.close()\n",
    "        od_delta[strain] = (mu,var)\n",
    "        \n",
    "        mu,var = utils.compute_delta(gp,x,\n",
    "                                     {'time':np.linspace(0,43)},{'Strain':[strain]*50,'paraquat':[1]*50},\n",
    "                                     {'Strain':[strain]*50,'paraquat':[1]*50},derivative=True,derivative_ind=3,\n",
    "                                     xslice=lambda y: y[:,1:],xchange_2=null_interaction)\n",
    "        plt.figure(figsize=(12,6))\n",
    "        plot.plot_mvn(mu,var)\n",
    "        plt.title(\"$\\Delta$ d log(OD) / dt\",fontsize=30)\n",
    "        plt.xlabel(\"time (h)\",fontsize=30)\n",
    "        plt.yticks(fontsize=25)\n",
    "        plt.xticks(fontsize=25)\n",
    "        plt.grid(True,color='grey')\n",
    "        plt.xlim(-2,45)\n",
    "        plt.savefig(\"figures/paraquat/od_delta_deriv/%s.png\"%strain,bbox_inches=\"tight\")\n",
    "        plt.close()\n",
    "        od_delta_deriv[strain] = (mu,var)\n",
    "    \n",
    "    del gp\n",
    "    \n",
    "    if permutations:\n",
    "    \n",
    "        perms = []\n",
    "        for i in range(50):\n",
    "            if i%10 == 0:\n",
    "                print i\n",
    "\n",
    "            x[:,1] = np.random.choice(x[:,1],x.shape[0],replace=False)\n",
    "            gp = GPy.models.GPRegression(x[:,1:],y,GPy.kern.RBF(3,ARD=True))\n",
    "            gp.optimize()\n",
    "\n",
    "            perms.append(gp.log_likelihood() - gp_null.log_likelihood())\n",
    "\n",
    "            del gp\n",
    "\n",
    "        row['BF-permuted'] = perms\n",
    "\n",
    "    del gp_null\n",
    "        \n",
    "    if save:\n",
    "        table = table.append(row,ignore_index=True)\n",
    "        table.index = range(table.shape[0])\n",
    "        table.to_csv(\"paraquat_bfs.csv\")\n",
    "        "
   ]
  },
  {
   "cell_type": "code",
   "execution_count": 74,
   "metadata": {
    "collapsed": false
   },
   "outputs": [
    {
     "data": {
      "text/plain": [
       "(array([ 0,  1,  2,  3,  4,  5,  6,  7,  8,  9, 10, 11, 12, 13, 14, 15, 16,\n",
       "        17, 18, 19, 20, 21, 22, 23, 24, 25, 26]),\n",
       " <a list of 27 Text yticklabel objects>)"
      ]
     },
     "execution_count": 74,
     "metadata": {},
     "output_type": "execute_result"
    },
    {
     "data": {
      "image/png": "[encoded data removed]",
      "text/plain": [
       "<matplotlib.figure.Figure at 0x7fa791884fd0>"
      ]
     },
     "metadata": {},
     "output_type": "display_data"
    }
   ],
   "source": [
    "reload(plot)\n",
    "\n",
    "plt.figure(figsize=(16,10))\n",
    "plot.plot_delta(np.linspace(0,43),od_delta_deriv,mean=False,probability=True,cluster=True,cluster_kwargs={\"method\":'complete'})\n",
    "plt.yticks(fontsize=15)"
   ]
  },
  {
   "cell_type": "code",
   "execution_count": 75,
   "metadata": {
    "collapsed": false
   },
   "outputs": [],
   "source": [
    "reload(plot)\n",
    "\n",
    "plt.figure(figsize=(16,10))\n",
    "plot.plot_delta(np.linspace(0,43),od_delta_deriv,mean=False,probability=True,cluster=True,cluster_kwargs={\"method\":'complete'})\n",
    "plt.yticks(fontsize=15)\n",
    "plt.savefig(\"figures/paraquat/od_delta_deriv_prob.png\",bbox_inches=\"tight\")\n",
    "plt.close()\n",
    "\n",
    "\n",
    "plt.figure(figsize=(16,10))\n",
    "plot.plot_delta(np.linspace(0,43),od_delta_deriv,mean=True,probability=True,cluster=True,cluster_kwargs={\"method\":'complete'})\n",
    "plt.yticks(fontsize=15)\n",
    "plt.savefig(\"figures/paraquat/od_delta_deriv_mu.png\",bbox_inches=\"tight\")\n",
    "plt.close()\n",
    "\n",
    "\n",
    "plt.figure(figsize=(16,10))\n",
    "plot.plot_delta(np.linspace(0,43),od_delta,mean=False,probability=True,cluster=True,cluster_kwargs={\"method\":'complete'})\n",
    "plt.yticks(fontsize=15)\n",
    "plt.savefig(\"figures/paraquat/od_delta_prob.png\",bbox_inches=\"tight\")\n",
    "plt.close()\n",
    "\n",
    "\n",
    "plt.figure(figsize=(16,10))\n",
    "plot.plot_delta(np.linspace(0,43),od_delta,mean=True,probability=True,cluster=True,cluster_kwargs={\"method\":'complete'})\n",
    "plt.yticks(fontsize=15)\n",
    "plt.savefig(\"figures/paraquat/od_delta_mu.png\",bbox_inches=\"tight\")\n",
    "plt.close()"
   ]
  },
  {
   "cell_type": "code",
   "execution_count": null,
   "metadata": {
    "collapsed": false
   },
   "outputs": [],
   "source": [
    "reload(utils)"
   ]
  },
  {
   "cell_type": "code",
   "execution_count": 37,
   "metadata": {
    "collapsed": false
   },
   "outputs": [
    {
     "data": {
      "text/plain": [
       "array([[ 1.        ,  0.        ,  0.        ,  0.        , -1.46385011],\n",
       "       [ 1.        ,  0.        ,  0.        ,  0.        , -0.87831007],\n",
       "       [ 1.        ,  0.        ,  0.        ,  0.        , -0.29277002],\n",
       "       ..., \n",
       "       [ 0.        ,  1.        ,  1.        ,  1.        ,  0.29277002],\n",
       "       [ 0.        ,  1.        ,  1.        ,  1.        ,  0.87831007],\n",
       "       [ 0.        ,  1.        ,  1.        ,  1.        ,  1.46385011]])"
      ]
     },
     "execution_count": 37,
     "metadata": {},
     "output_type": "execute_result"
    }
   ],
   "source": [
    "np.asarray(x)"
   ]
  },
  {
   "cell_type": "code",
   "execution_count": 35,
   "metadata": {
    "collapsed": false
   },
   "outputs": [
    {
     "data": {
      "text/plain": [
       "<matplotlib.image.AxesImage at 0x7fa7aeabaa50>"
      ]
     },
     "execution_count": 35,
     "metadata": {},
     "output_type": "execute_result"
    },
    {
     "data": {
      "image/png": "[encoded data removed]",
      "text/plain": [
       "<matplotlib.figure.Figure at 0x7fa7aebc1c90>"
      ]
     },
     "metadata": {},
     "output_type": "display_data"
    }
   ],
   "source": [
    "plt.imshow(np.asarray(x),aspect=\"auto\",interpolation='none')"
   ]
  },
  {
   "cell_type": "code",
   "execution_count": 40,
   "metadata": {
    "collapsed": false
   },
   "outputs": [
    {
     "data": {
      "image/png": "[encoded data removed]",
      "text/plain": [
       "<matplotlib.figure.Figure at 0x7f4fa4b25290>"
      ]
     },
     "metadata": {},
     "output_type": "display_data"
    }
   ],
   "source": [
    "plt.figure(figsize=(10,8))\n",
    "\n",
    "plt.barh(range(table.shape[0]),table.BF,alpha=.2)\n",
    "plt.boxplot([p for p in table['BF-permuted']],positions=np.arange(.5,table.shape[0]+.5,1),vert=False);\n",
    "plt.yticks(np.arange(table.shape[0])+.4,table.strain);\n",
    "\n",
    "# plt.xlim(-1,50)"
   ]
  },
  {
   "cell_type": "code",
   "execution_count": 46,
   "metadata": {
    "collapsed": false
   },
   "outputs": [
    {
     "name": "stdout",
     "output_type": "stream",
     "text": [
      "0\n",
      "0\n",
      "0\n",
      "0\n",
      "0\n",
      "0\n",
      "0\n",
      "0\n",
      "0\n",
      "0\n",
      "0\n",
      "0\n",
      "0\n",
      "0\n",
      "0\n",
      "0\n",
      "0\n",
      "0\n",
      "0\n",
      "0\n",
      "0\n",
      "0\n",
      "0\n",
      "0\n",
      "0\n",
      "0\n",
      "0\n"
     ]
    }
   ],
   "source": [
    "for i,r in table.iterrows():\n",
    "    print sum(r.BF<np.array(r['BF-permuted']))"
   ]
  },
  {
   "cell_type": "code",
   "execution_count": 45,
   "metadata": {
    "collapsed": false
   },
   "outputs": [
    {
     "data": {
      "text/plain": [
       "[0.082504662462611122,\n",
       " -4.6039672270126175e-06,\n",
       " -3.2391426884714747e-05,\n",
       " -1.2161042150182766e-05,\n",
       " 1.8728173869867533,\n",
       " -1.7088803019760235e-05,\n",
       " -7.3802846145554213e-06,\n",
       " -8.9140314003088861e-05,\n",
       " 0.69434248241066143,\n",
       " 0.21017984356763009,\n",
       " -4.1756800328585086e-06,\n",
       " -1.4449614468503569e-05,\n",
       " -0.00051016659426750266,\n",
       " 0.21934649070135492,\n",
       " -4.3436444343569747e-05,\n",
       " 0.13841656257613977,\n",
       " 0.079015471088268896,\n",
       " 1.7628119307172483,\n",
       " -9.5282596703327727e-05,\n",
       " 0.19821047873870157,\n",
       " 0.6567639918275745,\n",
       " -7.7821667446187348e-05,\n",
       " -1.4404700550585403e-05,\n",
       " 0.0031248936969632268,\n",
       " -5.6074017038554302e-06,\n",
       " -8.1522933783162443e-05,\n",
       " 0.01289995929869292,\n",
       " -2.4314171014339081e-05,\n",
       " -2.4927832214416412e-05,\n",
       " -9.0136699100185069e-06,\n",
       " 5.4732920489186654e-06,\n",
       " -2.6028381171272486e-05,\n",
       " -1.1383433957234956e-05,\n",
       " -0.00035558744309582835,\n",
       " -0.0015468677670469333,\n",
       " -6.6153404532087734e-06,\n",
       " -3.0810065709374612e-05,\n",
       " -1.4058162832952803e-05,\n",
       " 0.015675375907221678,\n",
       " 0.026802233727721614,\n",
       " -0.0045468496458624941,\n",
       " 0.0015316423960030079,\n",
       " -4.710951293418475e-05,\n",
       " -1.1626611922110897e-05,\n",
       " -3.6902172269037692e-06,\n",
       " -9.5746588044676173e-05,\n",
       " 0.13140487001896872,\n",
       " -2.7094024744656053e-05,\n",
       " 0.091521218955449513,\n",
       " 3.0734161086793392]"
      ]
     },
     "execution_count": 45,
     "metadata": {},
     "output_type": "execute_result"
    }
   ],
   "source": [
    "r['BF-permuted']"
   ]
  },
  {
   "cell_type": "code",
   "execution_count": 30,
   "metadata": {
    "collapsed": false
   },
   "outputs": [
    {
     "data": {
      "image/png": "[encoded data removed]",
      "text/plain": [
       "<matplotlib.figure.Figure at 0x7f4fa5877310>"
      ]
     },
     "metadata": {},
     "output_type": "display_data"
    }
   ],
   "source": [
    "plt.figure(figsize=(10,8))\n",
    "\n",
    "plt.barh(range(table.shape[0]),table.BF)\n",
    "plt.boxplot([p for p in table['BF-permuted']],positions=np.arange(.5,table.shape[0]+.5,1),vert=False);\n",
    "plt.yticks(np.arange(.5,.5+table.shape[0]),table.strain);\n",
    "\n",
    "# plt.xlim(-1,50)"
   ]
  },
  {
   "cell_type": "code",
   "execution_count": 31,
   "metadata": {
    "collapsed": false
   },
   "outputs": [
    {
     "data": {
      "text/html": [
       "<div>\n",
       "<table border=\"1\" class=\"dataframe\">\n",
       "  <thead>\n",
       "    <tr style=\"text-align: right;\">\n",
       "      <th></th>\n",
       "      <th>strain</th>\n",
       "      <th>BF</th>\n",
       "      <th>BF-permuted</th>\n",
       "    </tr>\n",
       "  </thead>\n",
       "  <tbody>\n",
       "    <tr>\n",
       "      <th>0</th>\n",
       "      <td>VNG0039</td>\n",
       "      <td>17.783874</td>\n",
       "      <td>[1.85926376356, -9.61472511563e-05, -6.1189583...</td>\n",
       "    </tr>\n",
       "  </tbody>\n",
       "</table>\n",
       "</div>"
      ],
      "text/plain": [
       "    strain         BF                                        BF-permuted\n",
       "0  VNG0039  17.783874  [1.85926376356, -9.61472511563e-05, -6.1189583..."
      ]
     },
     "execution_count": 31,
     "metadata": {},
     "output_type": "execute_result"
    }
   ],
   "source": [
    "table"
   ]
  },
  {
   "cell_type": "code",
   "execution_count": 21,
   "metadata": {
    "collapsed": false
   },
   "outputs": [
    {
     "data": {
      "text/plain": [
       "<matplotlib.collections.PathCollection at 0x7f4fa5bda9d0>"
      ]
     },
     "execution_count": 21,
     "metadata": {},
     "output_type": "execute_result"
    },
    {
     "data": {
      "image/png": "[encoded data removed]",
      "text/plain": [
       "<matplotlib.figure.Figure at 0x7f4fa6700890>"
      ]
     },
     "metadata": {},
     "output_type": "display_data"
    }
   ],
   "source": [
    "plt.scatter(table.BF,[np.mean(p) for p in table['BF-permuted']])"
   ]
  },
  {
   "cell_type": "code",
   "execution_count": 19,
   "metadata": {
    "collapsed": true
   },
   "outputs": [],
   "source": [
    "gp = GPy.models.GPRegression(x[:,1:],y,GPy.kern.RBF(2,ARD=True))\n",
    "gp.optimize()"
   ]
  },
  {
   "cell_type": "code",
   "execution_count": 20,
   "metadata": {
    "collapsed": false
   },
   "outputs": [
    {
     "data": {
      "text/html": [
       "<style type=\"text/css\">\n",
       ".pd{\n",
       "    font-family: \"Courier New\", Courier, monospace !important;\n",
       "    width: 100%;\n",
       "    padding: 3px;\n",
       "}\n",
       "</style>\n",
       "\n",
       "<p class=pd>\n",
       "<b>Model</b>: GP regression<br>\n",
       "<b>Objective</b>: 1636.84137681<br>\n",
       "<b>Number of Parameters</b>: 4<br>\n",
       "<b>Number of Optimization Parameters</b>: 4<br>\n",
       "<b>Updates</b>: True<br>\n",
       "</p>\n",
       "<style type=\"text/css\">\n",
       ".tg  {font-family:\"Courier New\", Courier, monospace !important;padding:2px 3px;word-break:normal;border-collapse:collapse;border-spacing:0;border-color:#DCDCDC;margin:0px auto;width:100%;}\n",
       ".tg td{font-family:\"Courier New\", Courier, monospace !important;font-weight:bold;color:#444;background-color:#F7FDFA;border-style:solid;border-width:1px;overflow:hidden;word-break:normal;border-color:#DCDCDC;}\n",
       ".tg th{font-family:\"Courier New\", Courier, monospace !important;font-weight:normal;color:#fff;background-color:#26ADE4;border-style:solid;border-width:1px;overflow:hidden;word-break:normal;border-color:#DCDCDC;}\n",
       ".tg .tg-left{font-family:\"Courier New\", Courier, monospace !important;font-weight:normal;text-align:left;}\n",
       ".tg .tg-center{font-family:\"Courier New\", Courier, monospace !important;font-weight:normal;text-align:center;}\n",
       ".tg .tg-right{font-family:\"Courier New\", Courier, monospace !important;font-weight:normal;text-align:right;}\n",
       "</style>\n",
       "<table class=\"tg\"><tr><th><b>  GP_regression.         </b></th><th><b>         value</b></th><th><b>constraints</b></th><th><b>priors</b></th></tr>\n",
       "<tr><td class=tg-left>  rbf.variance           </td><td class=tg-right>0.988175793111</td><td class=tg-center>    +ve    </td><td class=tg-center>      </td></tr>\n",
       "<tr><td class=tg-left>  rbf.lengthscale        </td><td class=tg-right>          (2,)</td><td class=tg-center>    +ve    </td><td class=tg-center>      </td></tr>\n",
       "<tr><td class=tg-left>  Gaussian_noise.variance</td><td class=tg-right>0.419296446039</td><td class=tg-center>    +ve    </td><td class=tg-center>      </td></tr>\n",
       "</table>"
      ],
      "text/plain": [
       "<GPy.models.gp_regression.GPRegression at 0x7f4fa5c4f790>"
      ]
     },
     "execution_count": 20,
     "metadata": {},
     "output_type": "execute_result"
    }
   ],
   "source": [
    "gp.le"
   ]
  },
  {
   "cell_type": "code",
   "execution_count": 27,
   "metadata": {
    "collapsed": false
   },
   "outputs": [
    {
     "data": {
      "text/plain": [
       "<matplotlib.collections.PathCollection at 0x7f4fa57cc750>"
      ]
     },
     "execution_count": 27,
     "metadata": {},
     "output_type": "execute_result"
    },
    {
     "data": {
      "image/png": "[encoded data removed]",
      "text/plain": [
       "<matplotlib.figure.Figure at 0x7f4fa58a0fd0>"
      ]
     },
     "metadata": {},
     "output_type": "display_data"
    }
   ],
   "source": [
    "select = x[:,2] == 0\n",
    "plt.scatter(x[:,3][select],y[select])\n",
    "\n",
    "select = x[:,2] == 1\n",
    "plt.scatter(x[:,3][select],y[select],c='r')"
   ]
  },
  {
   "cell_type": "code",
   "execution_count": 26,
   "metadata": {
    "collapsed": false
   },
   "outputs": [
    {
     "data": {
      "text/plain": [
       "DesignMatrix with shape (1656, 4)\n",
       "  Intercept  C(Strain)[T.ura3]  C(paraquat)[T.1]  scale(time)\n",
       "          1                  1                 0     -1.46385\n",
       "          1                  1                 0     -0.87831\n",
       "          1                  1                 0     -0.29277\n",
       "          1                  1                 0      0.29277\n",
       "          1                  0                 0      0.87831\n",
       "          1                  1                 0      1.46385\n",
       "          1                  1                 0     -1.46385\n",
       "          1                  1                 0     -0.87831\n",
       "          1                  1                 0     -0.29277\n",
       "          1                  1                 0      0.29277\n",
       "          1                  1                 0      0.87831\n",
       "          1                  1                 0      1.46385\n",
       "          1                  1                 0     -1.46385\n",
       "          1                  1                 0     -0.87831\n",
       "          1                  1                 0     -0.29277\n",
       "          1                  1                 0      0.29277\n",
       "          1                  1                 0      0.87831\n",
       "          1                  1                 0      1.46385\n",
       "          1                  0                 0     -1.46385\n",
       "          1                  1                 0     -0.87831\n",
       "          1                  1                 0     -0.29277\n",
       "          1                  1                 0      0.29277\n",
       "          1                  1                 0      0.87831\n",
       "          1                  1                 0      1.46385\n",
       "          1                  1                 0     -1.46385\n",
       "          1                  1                 0     -0.87831\n",
       "          1                  1                 0     -0.29277\n",
       "          1                  1                 0      0.29277\n",
       "          1                  0                 0      0.87831\n",
       "          1                  1                 0      1.46385\n",
       "  [1626 rows omitted]\n",
       "  Terms:\n",
       "    'Intercept' (column 0)\n",
       "    'C(Strain)' (column 1)\n",
       "    'C(paraquat)' (column 2)\n",
       "    'scale(time)' (column 3)\n",
       "  (to view full data, use np.asarray(this_obj))"
      ]
     },
     "execution_count": 26,
     "metadata": {},
     "output_type": "execute_result"
    }
   ],
   "source": [
    "x"
   ]
  },
  {
   "cell_type": "code",
   "execution_count": null,
   "metadata": {
    "collapsed": true
   },
   "outputs": [],
   "source": []
  }
 ],
 "metadata": {
  "kernelspec": {
   "display_name": "Python 2",
   "language": "python",
   "name": "python2"
  },
  "language_info": {
   "codemirror_mode": {
    "name": "ipython",
    "version": 2
   },
   "file_extension": ".py",
   "mimetype": "text/x-python",
   "name": "python",
   "nbconvert_exporter": "python",
   "pygments_lexer": "ipython2",
   "version": "2.7.6"
  }
 },
 "nbformat": 4,
 "nbformat_minor": 0
}

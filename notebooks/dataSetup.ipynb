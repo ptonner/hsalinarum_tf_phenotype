{
 "cells": [
  {
   "cell_type": "code",
   "execution_count": 1,
   "metadata": {
    "collapsed": false
   },
   "outputs": [],
   "source": [
    "import pandas as pd\n",
    "import numpy as np\n",
    "from scipy import interpolate\n",
    "import matplotlib.pyplot as plt\n",
    "import os"
   ]
  },
  {
   "cell_type": "code",
   "execution_count": 2,
   "metadata": {
    "collapsed": true
   },
   "outputs": [],
   "source": [
    "os.chdir(\"..\")"
   ]
  },
  {
   "cell_type": "code",
   "execution_count": 3,
   "metadata": {
    "collapsed": false
   },
   "outputs": [],
   "source": [
    "%matplotlib inline"
   ]
  },
  {
   "cell_type": "code",
   "execution_count": 4,
   "metadata": {
    "collapsed": false
   },
   "outputs": [],
   "source": [
    "data = pd.read_excel('data/Raw_growth_data2.xlsx',sheetname='Raw data (OD600)SLIM',skiprows=[0],index_col=None)"
   ]
  },
  {
   "cell_type": "code",
   "execution_count": 5,
   "metadata": {
    "collapsed": true
   },
   "outputs": [],
   "source": [
    "skip_strains = ['ura3_EV', u'cspD1_EV', u'cspD1_cspD1','ura3']"
   ]
  },
  {
   "cell_type": "code",
   "execution_count": 6,
   "metadata": {
    "collapsed": true
   },
   "outputs": [],
   "source": [
    "if not 'figures' in os.listdir('.'):\n",
    "    os.mkdir('figures')\n",
    "    os.mkdir('figures/data')\n",
    "    os.mkdir('figures/data/standard')\n",
    "    os.mkdir('figures/data/osmotic')\n",
    "    os.mkdir('figures/data/heatshock')\n",
    "    os.mkdir('figures/data/paraquat')"
   ]
  },
  {
   "cell_type": "markdown",
   "metadata": {},
   "source": [
    "## Update labels "
   ]
  },
  {
   "cell_type": "code",
   "execution_count": 7,
   "metadata": {
    "collapsed": false
   },
   "outputs": [],
   "source": [
    "# update all strains to same label\n",
    "data.loc[data.Strain==1179,'Strain'] = 'copR'\n",
    "data.loc[data.Strain=='VNG1179','Strain'] = 'copR'\n",
    "data.loc[data.Strain=='VNG1179C','Strain'] = 'copR'\n",
    "data.loc[data.Strain=='VNG0194','Strain'] = 'VNG0194H'"
   ]
  },
  {
   "cell_type": "code",
   "execution_count": 8,
   "metadata": {
    "collapsed": false
   },
   "outputs": [],
   "source": [
    "# add indicator columns for each condition\n",
    "data['standard'] = (data.Condition.isnull()).astype(int)\n",
    "data['paraquat'] = (data.Condition=='0.333mM PQ').astype(int)\n",
    "data['peroxide'] = (data.Condition=='5mM H2O2').astype(int)\n",
    "data['osmotic'] = (data.Condition=='2.9M NaCl').astype(int)\n",
    "data['heatshock'] = (data.Condition=='54C shift at 16h').astype(int)"
   ]
  },
  {
   "cell_type": "markdown",
   "metadata": {},
   "source": [
    "# tidy "
   ]
  },
  {
   "cell_type": "code",
   "execution_count": 9,
   "metadata": {
    "collapsed": false
   },
   "outputs": [
    {
     "data": {
      "text/plain": [
       "(264372, 12)"
      ]
     },
     "execution_count": 9,
     "metadata": {},
     "output_type": "execute_result"
    }
   ],
   "source": [
    "# convert data to tidy formay\n",
    "tidy = pd.melt(data,id_vars=['Experiment','Well','Strain','Biological replicate','Technical Replicate','standard','paraquat','peroxide','osmotic','heatshock'],value_vars=data.columns.values[7:-5].tolist(),value_name='OD',var_name='time')\n",
    "tidy = tidy[~tidy.OD.isnull()]\n",
    "tidy.shape"
   ]
  },
  {
   "cell_type": "markdown",
   "metadata": {},
   "source": [
    "# Plot"
   ]
  },
  {
   "cell_type": "markdown",
   "metadata": {},
   "source": [
    "## Standard "
   ]
  },
  {
   "cell_type": "code",
   "execution_count": 10,
   "metadata": {
    "collapsed": false,
    "scrolled": true
   },
   "outputs": [],
   "source": [
    "def plot_standard(norm,method):\n",
    "    \n",
    "    if not method in os.listdir(\"figures/data/standard/\"):\n",
    "        os.mkdir(\"figures/data/standard/\"+method)\n",
    "\n",
    "    standard = norm[norm.standard==1]\n",
    "    g = standard.groupby('Strain')\n",
    "\n",
    "    ura3 = g.get_group('ura3')\n",
    "    g_ura3 = ura3.groupby(['Experiment','Well'])\n",
    "\n",
    "    for strain,temp in g:\n",
    "        g2 = temp.groupby(['Experiment','Well'])\n",
    "\n",
    "        plt.figure(figsize=(8,6))\n",
    "\n",
    "#         plt.subplot(121)\n",
    "#         for well,temp2 in g_ura3:\n",
    "#             temp2.sort_values('time')\n",
    "#             plt.plot(temp2.time,temp2.OD,'k',alpha=.2)    \n",
    "\n",
    "#         plt.subplot(122)\n",
    "        for well,temp2 in g2:\n",
    "            temp2.sort_values('time')\n",
    "            plt.plot(temp2.time,temp2.OD,'g',alpha=.6)\n",
    "\n",
    "#         plt.title(strain,fontsize=35)\n",
    "\n",
    "#         plt.subplot(121)\n",
    "        plt.ylabel(\"log(OD)\",fontsize=30)\n",
    "        plt.xlabel(\"time (h)\",fontsize=30)\n",
    "        plt.yticks(fontsize=25)\n",
    "        plt.xticks(fontsize=25)\n",
    "        plt.grid(True,color='grey')\n",
    "#         plt.xlim(standard.time.min(),standard.time.max())\n",
    "        \n",
    "        ylim = (min(ura3.OD.min(),standard.OD.min(),),\n",
    "                max(ura3.OD.max(),standard.OD.max(),))\n",
    "        plt.ylim(ylim)\n",
    "        \n",
    "#         plt.subplot(122)\n",
    "#         plt.xlabel(\"time (h)\",fontsize=30)\n",
    "#         plt.yticks(fontsize=25)\n",
    "#         plt.xticks(fontsize=25)\n",
    "#         plt.grid(True,color='grey')\n",
    "#         plt.xlim(-1,44)\n",
    "\n",
    "        plt.savefig(\"figures/data/standard/%s/%s\"%(method,strain),bbox_inches='tight',dpi=150)\n",
    "        plt.close()"
   ]
  },
  {
   "cell_type": "markdown",
   "metadata": {},
   "source": [
    "## Paraquat "
   ]
  },
  {
   "cell_type": "code",
   "execution_count": 11,
   "metadata": {
    "collapsed": false,
    "scrolled": true
   },
   "outputs": [],
   "source": [
    "def plot_paraquat(norm,method):\n",
    "    \n",
    "    if not method in os.listdir(\"figures/data/paraquat/\"):\n",
    "        os.mkdir(\"figures/data/paraquat/\"+method)\n",
    "\n",
    "    paraquat = norm.loc[(norm.standard==1) | (norm.paraquat==1),:]\n",
    "    g = paraquat.groupby('Strain')\n",
    "\n",
    "    ura3 = g.get_group('ura3')\n",
    "    g_ura3 = ura3.groupby(['standard'])\n",
    "    ura3_standard = g_ura3.get_group(1)\n",
    "    ura3_paraquat = g_ura3.get_group(0)\n",
    "\n",
    "    for strain,temp in g:\n",
    "        #if strain in skip_strains:\n",
    "        #    continue\n",
    "\n",
    "        g2 = temp.groupby('standard')\n",
    "        \n",
    "        try:\n",
    "            _standard = g2.get_group(1)\n",
    "            _paraquat = g2.get_group(0)\n",
    "        except:\n",
    "            continue\n",
    "\n",
    "    #     g2 = temp.groupby(['Experiment','Well'])\n",
    "\n",
    "        plt.figure(figsize=(8,6))\n",
    "\n",
    "        ylim = (min(ura3_standard.OD.min(),ura3_paraquat.OD.min(),_standard.OD.min(),_paraquat.OD.min()),\n",
    "                max(ura3_standard.OD.max(),ura3_paraquat.OD.max(),_standard.OD.max(),_paraquat.OD.max()))\n",
    "\n",
    "#         plt.subplot(121)\n",
    "#         for well,temp2 in ura3_standard.groupby(['Experiment','Well']):\n",
    "#             temp2.sort_values('time')\n",
    "#             plt.plot(temp2.time,temp2.OD,'k',alpha=.6)\n",
    "\n",
    "#         for well,temp2 in ura3_paraquat.groupby(['Experiment','Well']):\n",
    "#             temp2.sort_values('time')\n",
    "#             plt.plot(temp2.time,temp2.OD,'g',alpha=.6)\n",
    "\n",
    "#         plt.subplot(122)\n",
    "        for well,temp2 in _standard.groupby(['Experiment','Well']):\n",
    "            temp2.sort_values('time')\n",
    "            plt.plot(temp2.time,temp2.OD,'k',alpha=.6)\n",
    "\n",
    "        for well,temp2 in _paraquat.groupby(['Experiment','Well']):\n",
    "            temp2.sort_values('time')\n",
    "            plt.plot(temp2.time,temp2.OD,'g',alpha=.6)\n",
    "\n",
    "#         plt.subplot(121)\n",
    "#         plt.title('ura3',fontsize=35)\n",
    "        plt.ylabel(\"log(OD)\",fontsize=30)\n",
    "        plt.xlabel(\"time (h)\",fontsize=30)\n",
    "        plt.yticks(fontsize=25)\n",
    "        plt.xticks(fontsize=25)\n",
    "        plt.grid(True,color='grey')\n",
    "#         plt.xlim(-1,44)\n",
    "        plt.ylim(ylim)\n",
    "\n",
    "#         plt.subplot(122)\n",
    "#         plt.title(strain,fontsize=35)\n",
    "#         plt.xlabel(\"time (h)\",fontsize=30)\n",
    "#         plt.yticks(fontsize=25)\n",
    "#         plt.xticks(fontsize=25)\n",
    "#         plt.grid(True,color='grey')\n",
    "#         plt.xlim(-1,44)\n",
    "#         plt.ylim(ylim)\n",
    "\n",
    "        plt.tight_layout()\n",
    "\n",
    "        plt.savefig(\"figures/data/paraquat/%s/%s\"%(method,strain),bbox_inches='tight',dpi=150)\n",
    "        plt.close()"
   ]
  },
  {
   "cell_type": "markdown",
   "metadata": {},
   "source": [
    "## Osmotic"
   ]
  },
  {
   "cell_type": "code",
   "execution_count": 12,
   "metadata": {
    "collapsed": false
   },
   "outputs": [],
   "source": [
    "def plot_osmotic(norm,method):\n",
    "    \n",
    "    if not method in os.listdir(\"figures/data/osmotic/\"):\n",
    "        os.mkdir(\"figures/data/osmotic/\"+method)\n",
    "\n",
    "    osmotic = norm.loc[(norm.standard==1) | (norm.osmotic==1),:]\n",
    "    g = osmotic.groupby('Strain')\n",
    "\n",
    "    ura3 = g.get_group('ura3')\n",
    "    g_ura3 = ura3.groupby(['standard'])\n",
    "    ura3_standard = g_ura3.get_group(1)\n",
    "    ura3_osmotic = g_ura3.get_group(0)\n",
    "\n",
    "    for strain,temp in g:\n",
    "        #if strain in skip_strains:\n",
    "        #    continue\n",
    "\n",
    "        g2 = temp.groupby('standard')\n",
    "        \n",
    "        try:\n",
    "            _standard = g2.get_group(1)\n",
    "            _osmotic = g2.get_group(0)\n",
    "        except:\n",
    "            continue\n",
    "                \n",
    "\n",
    "    #     g2 = temp.groupby(['Experiment','Well'])\n",
    "\n",
    "        plt.figure(figsize=(8,6))\n",
    "\n",
    "        ylim = (min(ura3_standard.OD.min(),ura3_osmotic.OD.min(),_standard.OD.min(),_osmotic.OD.min()),\n",
    "                max(ura3_standard.OD.max(),ura3_osmotic.OD.max(),_standard.OD.max(),_osmotic.OD.max()))\n",
    "\n",
    "#         plt.subplot(121)\n",
    "#         for well,temp2 in ura3_standard.groupby(['Experiment','Well']):\n",
    "#             temp2.sort_values('time')\n",
    "#             plt.plot(temp2.time,temp2.OD,'k',alpha=.6)\n",
    "\n",
    "#         for well,temp2 in ura3_osmotic.groupby(['Experiment','Well']):\n",
    "#             temp2.sort_values('time')\n",
    "#             plt.plot(temp2.time,temp2.OD,'g',alpha=.6)\n",
    "\n",
    "#         plt.subplot(122)\n",
    "        for well,temp2 in _standard.groupby(['Experiment','Well']):\n",
    "            temp2.sort_values('time')\n",
    "            plt.plot(temp2.time,temp2.OD,'k',alpha=.6)\n",
    "\n",
    "        for well,temp2 in _osmotic.groupby(['Experiment','Well']):\n",
    "            temp2.sort_values('time')\n",
    "            plt.plot(temp2.time,temp2.OD,'g',alpha=.6)\n",
    "\n",
    "#         plt.subplot(121)\n",
    "#         plt.title('ura3',fontsize=35)\n",
    "        plt.ylabel(\"log(OD)\",fontsize=30)\n",
    "        plt.xlabel(\"time (h)\",fontsize=30)\n",
    "        plt.yticks(fontsize=25)\n",
    "        plt.xticks(fontsize=25)\n",
    "        plt.grid(True,color='grey')\n",
    "#         plt.xlim(-1,44)\n",
    "        plt.ylim(ylim)\n",
    "\n",
    "#         plt.subplot(122)\n",
    "#         plt.title(strain,fontsize=35)\n",
    "#     #     plt.ylabel(\"log(OD)\",fontsize=30)\n",
    "#         plt.xlabel(\"time (h)\",fontsize=30)\n",
    "#         plt.yticks(fontsize=25)\n",
    "#         plt.xticks(fontsize=25)\n",
    "#         plt.grid(True,color='grey')\n",
    "#         plt.xlim(-1,44)\n",
    "#         plt.ylim(ylim)\n",
    "\n",
    "        plt.tight_layout()\n",
    "\n",
    "        plt.savefig(\"figures/data/osmotic/%s/%s\"%(method,strain),bbox_inches='tight',dpi=150)\n",
    "        plt.close()"
   ]
  },
  {
   "cell_type": "markdown",
   "metadata": {},
   "source": [
    "## Heatshock"
   ]
  },
  {
   "cell_type": "code",
   "execution_count": 13,
   "metadata": {
    "collapsed": false,
    "scrolled": false
   },
   "outputs": [],
   "source": [
    "def plot_heatshock(norm,method):\n",
    "    \n",
    "    if not method in os.listdir(\"figures/data/heatshock/\"):\n",
    "        os.mkdir(\"figures/data/heatshock/\"+method)\n",
    "\n",
    "    heatshock = norm[norm.heatshock==1]\n",
    "    g = heatshock.groupby('Strain')\n",
    "\n",
    "    ura3 = g.get_group('ura3')\n",
    "    g_ura3 = ura3.groupby(['Experiment','Well'])\n",
    "\n",
    "    for strain,temp in g:\n",
    "        g2 = temp.groupby(['Experiment','Well'])\n",
    "\n",
    "        plt.figure(figsize=(8,6))\n",
    "        plt.plot([16,16],[-.2,1.8],'cyan',lw=3)\n",
    "\n",
    "    #     plt.subplot(121)\n",
    "#         for well,temp2 in g_ura3:\n",
    "#             temp2.sort_values('time')\n",
    "#             plt.plot(temp2.time,temp2.OD,'k',alpha=.2)    \n",
    "\n",
    "    #     plt.subplot(122)\n",
    "        for well,temp2 in g2:\n",
    "            temp2.sort_values('time')\n",
    "            plt.plot(temp2.time,temp2.OD,'g',alpha=.6)\n",
    "\n",
    "\n",
    "        plt.title(strain,fontsize=35)\n",
    "\n",
    "        plt.ylabel(\"log(OD)\",fontsize=30)\n",
    "        plt.xlabel(\"time (h)\",fontsize=30)\n",
    "        plt.yticks(fontsize=25)\n",
    "        plt.xticks(fontsize=25)\n",
    "        plt.grid(True,color='grey')\n",
    "#         plt.xlim(-1,28)\n",
    "\n",
    "        plt.savefig(\"figures/data/heatshock/%s/%s\"%(method,strain),bbox_inches='tight',dpi=150)\n",
    "        plt.close()"
   ]
  },
  {
   "cell_type": "markdown",
   "metadata": {},
   "source": [
    "# Normalize "
   ]
  },
  {
   "cell_type": "markdown",
   "metadata": {},
   "source": [
    "## Time > 4hrs & < 48 hrs "
   ]
  },
  {
   "cell_type": "code",
   "execution_count": 14,
   "metadata": {
    "collapsed": false
   },
   "outputs": [],
   "source": [
    "# filter all heatshock data after 32 hours\n",
    "norm = tidy[~((tidy.time>32) & (tidy.heatshock==1))]"
   ]
  },
  {
   "cell_type": "code",
   "execution_count": 15,
   "metadata": {
    "collapsed": false
   },
   "outputs": [],
   "source": [
    "g = norm.groupby(['Experiment','Well'])\n",
    "\n",
    "def time_remove(x):\n",
    "    \n",
    "    x = x[x.time>4]\n",
    "    x = x[x.time<48]\n",
    "#     x.time = x.time - x.time.values[0]\n",
    "#     x = x.time\n",
    "        \n",
    "    return x\n",
    "\n",
    "norm = g.apply(time_remove)"
   ]
  },
  {
   "cell_type": "markdown",
   "metadata": {},
   "source": [
    "## Standard final OD threshold "
   ]
  },
  {
   "cell_type": "code",
   "execution_count": 16,
   "metadata": {
    "collapsed": false
   },
   "outputs": [],
   "source": [
    "g = norm.groupby(['Experiment','Well'])\n",
    "select = g.apply(lambda x: (x.standard == 1).all() and x.OD.max() - x.OD.min() < 1.0)\n",
    "\n",
    "temp = select[select]"
   ]
  },
  {
   "cell_type": "markdown",
   "metadata": {},
   "source": [
    "## Log2 "
   ]
  },
  {
   "cell_type": "code",
   "execution_count": 17,
   "metadata": {
    "collapsed": false
   },
   "outputs": [],
   "source": [
    "g = norm.groupby(['Strain','standard','paraquat','peroxide','osmotic','heatshock'])"
   ]
  },
  {
   "cell_type": "code",
   "execution_count": 18,
   "metadata": {
    "collapsed": false,
    "scrolled": true
   },
   "outputs": [],
   "source": [
    "def normalize(x):\n",
    "        \n",
    "    x.OD = np.log2(x.OD)\n",
    "    # x.OD = x.OD - x.OD[x.time==0].mean()\n",
    "    return x\n",
    "\n",
    "norm = g.apply(normalize)"
   ]
  },
  {
   "cell_type": "code",
   "execution_count": 19,
   "metadata": {
    "collapsed": false,
    "scrolled": true
   },
   "outputs": [],
   "source": [
    "plot_standard(norm,'log2')\n",
    "plot_paraquat(norm,'log2')\n",
    "plot_osmotic(norm,'log2')\n",
    "plot_heatshock(norm,'log2')"
   ]
  },
  {
   "cell_type": "markdown",
   "metadata": {},
   "source": [
    "## Subtract $t_0$ "
   ]
  },
  {
   "cell_type": "code",
   "execution_count": 20,
   "metadata": {
    "collapsed": true
   },
   "outputs": [],
   "source": [
    "g = norm.groupby(['Strain','standard','paraquat','peroxide','osmotic','heatshock'])"
   ]
  },
  {
   "cell_type": "code",
   "execution_count": 21,
   "metadata": {
    "collapsed": false
   },
   "outputs": [],
   "source": [
    "def normalize(x):\n",
    "    x.OD = x.OD - x.OD[x.time==x.time.min()].mean()\n",
    "    return x\n",
    "\n",
    "norm = g.apply(normalize)"
   ]
  },
  {
   "cell_type": "code",
   "execution_count": 22,
   "metadata": {
    "collapsed": false
   },
   "outputs": [],
   "source": [
    "plot_standard(norm,'log2_st0')\n",
    "plot_paraquat(norm,'log2_st0')\n",
    "plot_osmotic(norm,'log2_st0')\n",
    "plot_heatshock(norm,'log2_st0')"
   ]
  },
  {
   "cell_type": "code",
   "execution_count": 23,
   "metadata": {
    "collapsed": true
   },
   "outputs": [],
   "source": [
    "norm.to_csv(\"data/tidy_normalize_log_st0.csv\",index=False)"
   ]
  },
  {
   "cell_type": "code",
   "execution_count": 24,
   "metadata": {
    "collapsed": true
   },
   "outputs": [],
   "source": [
    "def plotWells(x,color='b'):\n",
    "    for well,temp2 in x.groupby(['Experiment','Well']):\n",
    "        temp2.sort_values('time')\n",
    "        plt.plot(temp2.time,temp2.OD,color=color,alpha=.6)"
   ]
  },
  {
   "cell_type": "markdown",
   "metadata": {},
   "source": [
    "## Well correction "
   ]
  },
  {
   "cell_type": "code",
   "execution_count": 25,
   "metadata": {
    "collapsed": false
   },
   "outputs": [],
   "source": [
    "g = norm.groupby(['Strain','standard','paraquat','peroxide','osmotic','heatshock'])"
   ]
  },
  {
   "cell_type": "code",
   "execution_count": 26,
   "metadata": {
    "collapsed": true
   },
   "outputs": [],
   "source": [
    "def well_effect(x):\n",
    "    \n",
    "    # find mean at each time point to subtract out before computing replicate effect\n",
    "    time_group = x.groupby(['time'])\n",
    "    time_od = time_group.apply(np.mean).OD\n",
    "    \n",
    "    def subtract_effect(y):\n",
    "        select = time_od.index.isin(y.time)\n",
    "        y.OD = y.OD.values - (y.OD.values-time_od.values[select]).mean()\n",
    "        return y\n",
    "    \n",
    "    replicate_group = x.groupby(['Experiment','Well'])\n",
    "    return replicate_group.apply(subtract_effect)    "
   ]
  },
  {
   "cell_type": "code",
   "execution_count": 27,
   "metadata": {
    "collapsed": false
   },
   "outputs": [],
   "source": [
    "norm = g.apply(well_effect)"
   ]
  },
  {
   "cell_type": "code",
   "execution_count": 28,
   "metadata": {
    "collapsed": false
   },
   "outputs": [],
   "source": [
    "plot_standard(norm,'log2_well')\n",
    "plot_paraquat(norm,'log2_well')\n",
    "plot_osmotic(norm,'log2_well')\n",
    "plot_heatshock(norm,'log2_well')"
   ]
  },
  {
   "cell_type": "markdown",
   "metadata": {},
   "source": [
    "# Save "
   ]
  },
  {
   "cell_type": "code",
   "execution_count": 29,
   "metadata": {
    "collapsed": true
   },
   "outputs": [],
   "source": [
    "norm.to_csv(\"data/tidy_normalize_all.csv\",index=False)"
   ]
  },
  {
   "cell_type": "code",
   "execution_count": null,
   "metadata": {
    "collapsed": true
   },
   "outputs": [],
   "source": []
  },
  {
   "cell_type": "code",
   "execution_count": null,
   "metadata": {
    "collapsed": true
   },
   "outputs": [],
   "source": []
  }
 ],
 "metadata": {
  "kernelspec": {
   "display_name": "Python 2",
   "language": "python",
   "name": "python2"
  },
  "language_info": {
   "codemirror_mode": {
    "name": "ipython",
    "version": 2
   },
   "file_extension": ".py",
   "mimetype": "text/x-python",
   "name": "python",
   "nbconvert_exporter": "python",
   "pygments_lexer": "ipython2",
   "version": "2.7.6"
  }
 },
 "nbformat": 4,
 "nbformat_minor": 0
}
